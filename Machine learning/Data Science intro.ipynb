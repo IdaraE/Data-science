{
 "cells": [
  {
   "cell_type": "code",
   "execution_count": 10,
   "id": "36d72b83",
   "metadata": {},
   "outputs": [],
   "source": [
    "data= \"La vie est belle\""
   ]
  },
  {
   "cell_type": "code",
   "execution_count": 11,
   "id": "eb202585",
   "metadata": {},
   "outputs": [
    {
     "data": {
      "text/plain": [
       "'La vie est belle'"
      ]
     },
     "execution_count": 11,
     "metadata": {},
     "output_type": "execute_result"
    }
   ],
   "source": [
    "data"
   ]
  },
  {
   "cell_type": "code",
   "execution_count": 4,
   "id": "06e1ff52",
   "metadata": {},
   "outputs": [
    {
     "name": "stdout",
     "output_type": "stream",
     "text": [
      "my name is idara\n"
     ]
    }
   ],
   "source": [
    "a=\"my name is idara\"\n",
    "print(a)"
   ]
  },
  {
   "cell_type": "code",
   "execution_count": 12,
   "id": "83041c2a",
   "metadata": {},
   "outputs": [
    {
     "data": {
      "text/plain": [
       "'La vie est belle'"
      ]
     },
     "execution_count": 12,
     "metadata": {},
     "output_type": "execute_result"
    }
   ],
   "source": [
    "data"
   ]
  },
  {
   "cell_type": "code",
   "execution_count": 8,
   "id": "32a5b1e7",
   "metadata": {},
   "outputs": [
    {
     "name": "stdout",
     "output_type": "stream",
     "text": [
      "7\n"
     ]
    }
   ],
   "source": [
    "print(2+5)"
   ]
  },
  {
   "cell_type": "code",
   "execution_count": 9,
   "id": "575831ea",
   "metadata": {},
   "outputs": [
    {
     "name": "stdout",
     "output_type": "stream",
     "text": [
      "51\n"
     ]
    }
   ],
   "source": [
    "print(45+6)"
   ]
  },
  {
   "cell_type": "code",
   "execution_count": null,
   "id": "b0440475",
   "metadata": {},
   "outputs": [],
   "source": []
  }
 ],
 "metadata": {
  "kernelspec": {
   "display_name": "Python 3 (ipykernel)",
   "language": "python",
   "name": "python3"
  },
  "language_info": {
   "codemirror_mode": {
    "name": "ipython",
    "version": 3
   },
   "file_extension": ".py",
   "mimetype": "text/x-python",
   "name": "python",
   "nbconvert_exporter": "python",
   "pygments_lexer": "ipython3",
   "version": "3.11.4"
  }
 },
 "nbformat": 4,
 "nbformat_minor": 5
}
